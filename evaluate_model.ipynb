{
  "nbformat": 4,
  "nbformat_minor": 0,
  "metadata": {
    "colab": {
      "name": "evaluate_model.ipynb",
      "provenance": []
    },
    "kernelspec": {
      "name": "python3",
      "display_name": "Python 3"
    },
    "accelerator": "GPU"
  },
  "cells": [
    {
      "cell_type": "code",
      "metadata": {
        "id": "aof1_RWbY6yO",
        "colab_type": "code",
        "colab": {
          "base_uri": "https://localhost:8080/",
          "height": 34
        },
        "outputId": "f6f16382-8a94-4d1f-811f-e4a5f07cf2a8"
      },
      "source": [
        "from google.colab import drive\n",
        "drive.mount('/content/drive')"
      ],
      "execution_count": null,
      "outputs": [
        {
          "output_type": "stream",
          "text": [
            "Drive already mounted at /content/drive; to attempt to forcibly remount, call drive.mount(\"/content/drive\", force_remount=True).\n"
          ],
          "name": "stdout"
        }
      ]
    },
    {
      "cell_type": "code",
      "metadata": {
        "id": "_YsHSNkRZTfx",
        "colab_type": "code",
        "colab": {
          "base_uri": "https://localhost:8080/",
          "height": 34
        },
        "outputId": "b18ca4d3-5477-47a9-e79d-d2898aad6331"
      },
      "source": [
        "import os\n",
        "os.chdir('/content/drive/My Drive/deeplearning/course_work1')\n",
        "os.getcwd()"
      ],
      "execution_count": null,
      "outputs": [
        {
          "output_type": "execute_result",
          "data": {
            "text/plain": [
              "'/content/drive/My Drive/deeplearning/course_work1'"
            ]
          },
          "metadata": {
            "tags": []
          },
          "execution_count": 24
        }
      ]
    },
    {
      "cell_type": "code",
      "metadata": {
        "id": "4B0bJArmZhEK",
        "colab_type": "code",
        "colab": {}
      },
      "source": [
        "import tensorflow as tf \n",
        "from sklearn.linear_model import LogisticRegression\n",
        "from tensorflow.keras.callbacks import Callback, EarlyStopping, ReduceLROnPlateau, TensorBoard, ModelCheckpoint\n",
        "from sklearn.metrics import classification_report\n",
        "from tensorflow.keras.applications import ResNet50, ResNet50V2, DenseNet201, MobileNet, MobileNetV2\n",
        "from tensorflow.keras.applications import imagenet_utils\n",
        "from tensorflow.keras.preprocessing.image import img_to_array\n",
        "from tensorflow.keras.preprocessing.image import ImageDataGenerator\n",
        "from tensorflow.keras.optimizers import SGD, Nadam, Adam\n",
        "from tensorflow.keras.optimizers import RMSprop\n",
        "from tensorflow.keras.layers import Input\n",
        "from tensorflow.keras.models import Model, Sequential\n",
        "from tensorflow.keras.layers import Dense, UpSampling2D, GlobalAveragePooling2D, Flatten, Conv2D, BatchNormalization, MaxPooling2D\n",
        "from tensorflow.keras.layers import Dropout\n",
        "from keras.datasets import cifar100, cifar10\n",
        "from keras.utils import print_summary, to_categorical\n",
        "import numpy as np\n",
        "import cv2\n",
        "import random\n",
        "from sklearn.model_selection import train_test_split\n",
        "from sklearn.metrics import classification_report, confusion_matrix, accuracy_score\n",
        "import matplotlib.pyplot as plt"
      ],
      "execution_count": null,
      "outputs": []
    },
    {
      "cell_type": "code",
      "metadata": {
        "id": "IitTnpbvZiHJ",
        "colab_type": "code",
        "colab": {}
      },
      "source": [
        "(list_image, labels), (x_test, y_test) = cifar100.load_data()\n",
        "x_train, x_val, y_train, y_val = train_test_split(list_image, labels, test_size=0.2, random_state=42)"
      ],
      "execution_count": null,
      "outputs": []
    },
    {
      "cell_type": "code",
      "metadata": {
        "id": "kLG9wSmfZpLK",
        "colab_type": "code",
        "colab": {
          "base_uri": "https://localhost:8080/",
          "height": 34
        },
        "outputId": "f2eddc96-fbc1-4380-efc3-0c5d3771a2ba"
      },
      "source": [
        "NUM_CLASSES = 100\n",
        "y_train = to_categorical(y_train, NUM_CLASSES)\n",
        "y_val = to_categorical(y_val, NUM_CLASSES)\n",
        "y_test = to_categorical(y_test, NUM_CLASSES)\n",
        "x_train = x_train.astype('float32')\n",
        "x_val = x_val.astype('float32')\n",
        "x_test = x_test.astype('float32')\n",
        "x_train = x_train/255.\n",
        "x_val = x_val/255.\n",
        "x_test = x_test/255.\n",
        "print(x_train.shape, x_val.shape, x_test.shape)"
      ],
      "execution_count": null,
      "outputs": [
        {
          "output_type": "stream",
          "text": [
            "(40000, 32, 32, 3) (10000, 32, 32, 3) (10000, 32, 32, 3)\n"
          ],
          "name": "stdout"
        }
      ]
    },
    {
      "cell_type": "code",
      "metadata": {
        "id": "GDGPULoEZwy-",
        "colab_type": "code",
        "colab": {
          "base_uri": "https://localhost:8080/",
          "height": 423
        },
        "outputId": "36ad37ee-b110-4152-c62f-d51e25bf676b"
      },
      "source": [
        "new_model = tf.keras.models.load_model('densenet_cifar100.h5')\n",
        "new_model.summary()"
      ],
      "execution_count": null,
      "outputs": [
        {
          "output_type": "stream",
          "text": [
            "WARNING:tensorflow:Sequential models without an `input_shape` passed to the first layer cannot reload their optimizer state. As a result, your model isstarting with a freshly initialized optimizer.\n",
            "Model: \"sequential\"\n",
            "_________________________________________________________________\n",
            "Layer (type)                 Output Shape              Param #   \n",
            "=================================================================\n",
            "up_sampling2d (UpSampling2D) multiple                  0         \n",
            "_________________________________________________________________\n",
            "up_sampling2d_1 (UpSampling2 multiple                  0         \n",
            "_________________________________________________________________\n",
            "densenet201 (Model)          (None, 4, 4, 1920)        18321984  \n",
            "_________________________________________________________________\n",
            "global_average_pooling2d (Gl multiple                  0         \n",
            "_________________________________________________________________\n",
            "dense (Dense)                multiple                  983552    \n",
            "_________________________________________________________________\n",
            "dropout (Dropout)            multiple                  0         \n",
            "_________________________________________________________________\n",
            "dense_1 (Dense)              multiple                  51300     \n",
            "=================================================================\n",
            "Total params: 19,356,836\n",
            "Trainable params: 19,127,780\n",
            "Non-trainable params: 229,056\n",
            "_________________________________________________________________\n"
          ],
          "name": "stdout"
        }
      ]
    },
    {
      "cell_type": "code",
      "metadata": {
        "id": "vV9J9wWRaVe5",
        "colab_type": "code",
        "colab": {
          "base_uri": "https://localhost:8080/",
          "height": 50
        },
        "outputId": "a7e026d4-54c4-427b-e98e-6f7b3294658d"
      },
      "source": [
        "loss,acc = new_model.evaluate(x_test,  y_test)\n",
        "print(\"Loss: {:5.2f}, Accuracy: {:5.2f}%\".format(loss,100*acc))"
      ],
      "execution_count": null,
      "outputs": [
        {
          "output_type": "stream",
          "text": [
            "313/313 [==============================] - 16s 52ms/step - loss: 0.8320 - accuracy: 0.8360\n",
            "Loss:  0.83, Accuracy: 83.60%\n"
          ],
          "name": "stdout"
        }
      ]
    },
    {
      "cell_type": "code",
      "metadata": {
        "id": "MDeKjYABgPOT",
        "colab_type": "code",
        "colab": {
          "base_uri": "https://localhost:8080/",
          "height": 34
        },
        "outputId": "d9039b80-c286-4b2a-9ad2-09fcb66220f0"
      },
      "source": [
        "target_names = np.array(['class' + str(i) for i in range(100)])\n",
        "target_names[:3]"
      ],
      "execution_count": null,
      "outputs": [
        {
          "output_type": "execute_result",
          "data": {
            "text/plain": [
              "array(['class0', 'class1', 'class2'], dtype='<U7')"
            ]
          },
          "metadata": {
            "tags": []
          },
          "execution_count": 33
        }
      ]
    },
    {
      "cell_type": "code",
      "metadata": {
        "id": "627xdI7lcagt",
        "colab_type": "code",
        "colab": {
          "base_uri": "https://localhost:8080/",
          "height": 34
        },
        "outputId": "8c714fe2-6c88-4a70-fbc6-e20b73f3eab2"
      },
      "source": [
        "predictions = new_model.predict(x_test, batch_size=128, verbose=1)"
      ],
      "execution_count": null,
      "outputs": [
        {
          "output_type": "stream",
          "text": [
            "79/79 [==============================] - 14s 173ms/step\n"
          ],
          "name": "stdout"
        }
      ]
    },
    {
      "cell_type": "code",
      "metadata": {
        "id": "1tzYT7jBhvv6",
        "colab_type": "code",
        "colab": {
          "base_uri": "https://localhost:8080/",
          "height": 1000
        },
        "outputId": "70e78bee-4ba0-4b90-e953-c7c0cfc07e58"
      },
      "source": [
        "predicted_classes = np.argmax(predictions, axis=1)\n",
        "label_test = np.argmax(y_test, axis=1)\n",
        "print(classification_report(label_test, predicted_classes, \n",
        "        target_names=target_names, digits = 6))"
      ],
      "execution_count": null,
      "outputs": [
        {
          "output_type": "stream",
          "text": [
            "              precision    recall  f1-score   support\n",
            "\n",
            "      class0   0.936842  0.890000  0.912821       100\n",
            "      class1   0.928571  0.910000  0.919192       100\n",
            "      class2   0.728261  0.670000  0.697917       100\n",
            "      class3   0.740000  0.740000  0.740000       100\n",
            "      class4   0.754902  0.770000  0.762376       100\n",
            "      class5   0.837838  0.930000  0.881517       100\n",
            "      class6   0.934783  0.860000  0.895833       100\n",
            "      class7   0.870000  0.870000  0.870000       100\n",
            "      class8   0.884615  0.920000  0.901961       100\n",
            "      class9   0.948980  0.930000  0.939394       100\n",
            "     class10   0.800000  0.720000  0.757895       100\n",
            "     class11   0.500000  0.650000  0.565217       100\n",
            "     class12   0.836364  0.920000  0.876190       100\n",
            "     class13   0.841584  0.850000  0.845771       100\n",
            "     class14   0.853211  0.930000  0.889952       100\n",
            "     class15   0.824074  0.890000  0.855769       100\n",
            "     class16   0.888889  0.880000  0.884422       100\n",
            "     class17   0.895238  0.940000  0.917073       100\n",
            "     class18   0.847619  0.890000  0.868293       100\n",
            "     class19   0.872549  0.890000  0.881188       100\n",
            "     class20   0.884615  0.920000  0.901961       100\n",
            "     class21   0.958763  0.930000  0.944162       100\n",
            "     class22   0.884615  0.920000  0.901961       100\n",
            "     class23   0.931818  0.820000  0.872340       100\n",
            "     class24   0.928571  0.910000  0.919192       100\n",
            "     class25   0.793814  0.770000  0.781726       100\n",
            "     class26   0.780952  0.820000  0.800000       100\n",
            "     class27   0.750000  0.810000  0.778846       100\n",
            "     class28   0.918367  0.900000  0.909091       100\n",
            "     class29   0.833333  0.850000  0.841584       100\n",
            "     class30   0.835165  0.760000  0.795812       100\n",
            "     class31   0.932584  0.830000  0.878307       100\n",
            "     class32   0.797980  0.790000  0.793970       100\n",
            "     class33   0.693878  0.680000  0.686869       100\n",
            "     class34   0.924731  0.860000  0.891192       100\n",
            "     class35   0.621951  0.510000  0.560440       100\n",
            "     class36   0.932584  0.830000  0.878307       100\n",
            "     class37   0.902174  0.830000  0.864583       100\n",
            "     class38   0.838710  0.780000  0.808290       100\n",
            "     class39   0.951456  0.980000  0.965517       100\n",
            "     class40   0.830000  0.830000  0.830000       100\n",
            "     class41   0.978261  0.900000  0.937500       100\n",
            "     class42   0.696970  0.920000  0.793103       100\n",
            "     class43   0.957447  0.900000  0.927835       100\n",
            "     class44   0.655738  0.800000  0.720721       100\n",
            "     class45   0.745098  0.760000  0.752475       100\n",
            "     class46   0.690000  0.690000  0.690000       100\n",
            "     class47   0.603604  0.670000  0.635071       100\n",
            "     class48   0.873874  0.970000  0.919431       100\n",
            "     class49   0.830189  0.880000  0.854369       100\n",
            "     class50   0.744444  0.670000  0.705263       100\n",
            "     class51   0.838095  0.880000  0.858537       100\n",
            "     class52   0.541353  0.720000  0.618026       100\n",
            "     class53   0.932039  0.960000  0.945813       100\n",
            "     class54   0.895833  0.860000  0.877551       100\n",
            "     class55   0.775281  0.690000  0.730159       100\n",
            "     class56   0.968085  0.910000  0.938144       100\n",
            "     class57   0.862745  0.880000  0.871287       100\n",
            "     class58   0.959596  0.950000  0.954774       100\n",
            "     class59   0.833333  0.700000  0.760870       100\n",
            "     class60   0.888889  0.880000  0.884422       100\n",
            "     class61   0.776786  0.870000  0.820755       100\n",
            "     class62   0.841584  0.850000  0.845771       100\n",
            "     class63   0.787879  0.780000  0.783920       100\n",
            "     class64   0.806818  0.710000  0.755319       100\n",
            "     class65   0.869565  0.800000  0.833333       100\n",
            "     class66   0.830189  0.880000  0.854369       100\n",
            "     class67   0.800000  0.840000  0.819512       100\n",
            "     class68   0.939394  0.930000  0.934673       100\n",
            "     class69   0.907216  0.880000  0.893401       100\n",
            "     class70   0.938272  0.760000  0.839779       100\n",
            "     class71   0.843750  0.810000  0.826531       100\n",
            "     class72   0.647619  0.680000  0.663415       100\n",
            "     class73   0.778846  0.810000  0.794118       100\n",
            "     class74   0.685714  0.720000  0.702439       100\n",
            "     class75   0.938776  0.920000  0.929293       100\n",
            "     class76   0.939394  0.930000  0.934673       100\n",
            "     class77   0.931818  0.820000  0.872340       100\n",
            "     class78   0.702479  0.850000  0.769231       100\n",
            "     class79   0.843137  0.860000  0.851485       100\n",
            "     class80   0.824176  0.750000  0.785340       100\n",
            "     class81   0.809524  0.850000  0.829268       100\n",
            "     class82   0.989796  0.970000  0.979798       100\n",
            "     class83   0.931818  0.820000  0.872340       100\n",
            "     class84   0.831683  0.840000  0.835821       100\n",
            "     class85   0.921569  0.940000  0.930693       100\n",
            "     class86   0.926316  0.880000  0.902564       100\n",
            "     class87   0.927835  0.900000  0.913706       100\n",
            "     class88   0.897959  0.880000  0.888889       100\n",
            "     class89   0.920792  0.930000  0.925373       100\n",
            "     class90   0.861111  0.930000  0.894231       100\n",
            "     class91   0.956044  0.870000  0.910995       100\n",
            "     class92   0.741071  0.830000  0.783019       100\n",
            "     class93   0.836735  0.820000  0.828283       100\n",
            "     class94   0.950000  0.950000  0.950000       100\n",
            "     class95   0.800000  0.840000  0.819512       100\n",
            "     class96   0.666667  0.540000  0.596685       100\n",
            "     class97   0.933333  0.840000  0.884211       100\n",
            "     class98   0.744681  0.700000  0.721649       100\n",
            "     class99   0.833333  0.850000  0.841584       100\n",
            "\n",
            "    accuracy                       0.836000     10000\n",
            "   macro avg   0.840349  0.836000  0.836606     10000\n",
            "weighted avg   0.840349  0.836000  0.836606     10000\n",
            "\n"
          ],
          "name": "stdout"
        }
      ]
    },
    {
      "cell_type": "code",
      "metadata": {
        "id": "JHc4FhgOfR7g",
        "colab_type": "code",
        "colab": {
          "base_uri": "https://localhost:8080/",
          "height": 283
        },
        "outputId": "89c32b2a-6b46-4dab-c222-bb6914fdafea"
      },
      "source": [
        "ids = np.where(label_test == 2 )\n",
        "plt.imshow(x_test[ids[0][0]].reshape(32,32,3))\n"
      ],
      "execution_count": null,
      "outputs": [
        {
          "output_type": "execute_result",
          "data": {
            "text/plain": [
              "<matplotlib.image.AxesImage at 0x7fe3fb1e45c0>"
            ]
          },
          "metadata": {
            "tags": []
          },
          "execution_count": 41
        },
        {
          "output_type": "display_data",
          "data": {
            "image/png": "[encoded data removed]",
            "text/plain": [
              "<Figure size 432x288 with 1 Axes>"
            ]
          },
          "metadata": {
            "tags": []
          }
        }
      ]
    }
  ]
}